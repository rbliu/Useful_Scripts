{
 "cells": [
  {
   "cell_type": "code",
   "execution_count": 139,
   "metadata": {},
   "outputs": [
    {
     "name": "stdout",
     "output_type": "stream",
     "text": [
      "Populating the interactive namespace from numpy and matplotlib\n"
     ]
    }
   ],
   "source": [
    "import pandas as pd\n",
    "from scipy.optimize import curve_fit\n",
    "import sys\n",
    "import numpy as np\n",
    "import matplotlib.pyplot as plt\n",
    "import matplotlib\n",
    "import datetime\n",
    "%pylab inline\n",
    "import seaborn as sns\n",
    "sns.set()\n",
    "\n",
    "matplotlib.rc('xtick', labelsize=14)\n",
    "matplotlib.rc('ytick', labelsize=14)\n",
    "matplotlib.rc('axes', titlesize=14)\n",
    "matplotlib.rc('axes', labelsize=14)"
   ]
  },
  {
   "cell_type": "code",
   "execution_count": 207,
   "metadata": {},
   "outputs": [
    {
     "data": {
      "text/html": [
       "<div>\n",
       "<style>\n",
       "    .dataframe thead tr:only-child th {\n",
       "        text-align: right;\n",
       "    }\n",
       "\n",
       "    .dataframe thead th {\n",
       "        text-align: left;\n",
       "    }\n",
       "\n",
       "    .dataframe tbody tr th {\n",
       "        vertical-align: top;\n",
       "    }\n",
       "</style>\n",
       "<table border=\"1\" class=\"dataframe\">\n",
       "  <thead>\n",
       "    <tr style=\"text-align: right;\">\n",
       "      <th></th>\n",
       "      <th>time</th>\n",
       "      <th>mean</th>\n",
       "      <th>std</th>\n",
       "    </tr>\n",
       "  </thead>\n",
       "  <tbody>\n",
       "    <tr>\n",
       "      <th>0</th>\n",
       "      <td>0.083333</td>\n",
       "      <td>0.006355</td>\n",
       "      <td>0.001190</td>\n",
       "    </tr>\n",
       "    <tr>\n",
       "      <th>1</th>\n",
       "      <td>0.166667</td>\n",
       "      <td>0.007063</td>\n",
       "      <td>0.001030</td>\n",
       "    </tr>\n",
       "    <tr>\n",
       "      <th>2</th>\n",
       "      <td>0.500000</td>\n",
       "      <td>0.009766</td>\n",
       "      <td>0.000342</td>\n",
       "    </tr>\n",
       "    <tr>\n",
       "      <th>3</th>\n",
       "      <td>1.000000</td>\n",
       "      <td>0.011789</td>\n",
       "      <td>0.000658</td>\n",
       "    </tr>\n",
       "    <tr>\n",
       "      <th>4</th>\n",
       "      <td>2.000000</td>\n",
       "      <td>0.016536</td>\n",
       "      <td>0.003535</td>\n",
       "    </tr>\n",
       "    <tr>\n",
       "      <th>5</th>\n",
       "      <td>5.000000</td>\n",
       "      <td>0.020994</td>\n",
       "      <td>0.008703</td>\n",
       "    </tr>\n",
       "    <tr>\n",
       "      <th>6</th>\n",
       "      <td>10.000000</td>\n",
       "      <td>0.030195</td>\n",
       "      <td>0.009828</td>\n",
       "    </tr>\n",
       "    <tr>\n",
       "      <th>7</th>\n",
       "      <td>60.000000</td>\n",
       "      <td>0.034675</td>\n",
       "      <td>0.007285</td>\n",
       "    </tr>\n",
       "  </tbody>\n",
       "</table>\n",
       "</div>"
      ],
      "text/plain": [
       "        time      mean       std\n",
       "0   0.083333  0.006355  0.001190\n",
       "1   0.166667  0.007063  0.001030\n",
       "2   0.500000  0.009766  0.000342\n",
       "3   1.000000  0.011789  0.000658\n",
       "4   2.000000  0.016536  0.003535\n",
       "5   5.000000  0.020994  0.008703\n",
       "6  10.000000  0.030195  0.009828\n",
       "7  60.000000  0.034675  0.007285"
      ]
     },
     "execution_count": 207,
     "metadata": {},
     "output_type": "execute_result"
    }
   ],
   "source": [
    "d = pd.ExcelFile(\"sample_Z_SMUG1.xlsx\")\n",
    "d.parse(\"Sheet1\")"
   ]
  },
  {
   "cell_type": "code",
   "execution_count": 208,
   "metadata": {},
   "outputs": [],
   "source": [
    "Dtime = d.parse(\"Sheet1\").iloc[:,0].values\n",
    "Dmean = d.parse(\"Sheet1\").iloc[:,1].values\n",
    "Dstd  = d.parse(\"Sheet1\").iloc[:,2].values"
   ]
  },
  {
   "cell_type": "code",
   "execution_count": 178,
   "metadata": {},
   "outputs": [],
   "source": [
    "# Define fititng functions\n",
    "# def func(x, a, b, k):\n",
    "#     return a*(1 - np.exp(-k*x)) + b\n",
    "def func1(x, a1, k1):\n",
    "    return a1*(1 - np.exp(-k1*x))\n",
    "\n",
    "def func2(x, a1, k1, a2, k2):\n",
    "    return a1*(1 - np.exp(-k1*x)) + a2*(1 - np.exp(-k2*x))\n",
    "\n",
    "def func1x(x, a1, k1, a2):\n",
    "    return a1*(1 - np.exp(-k1*x)) + a2\n",
    "\n",
    "def func3(x, a1, k1, a2, k2, a3, k3):\n",
    "    return a1*(1 - np.exp(-k1*x)) + a2*(1 - np.exp(-k2*x)) + a3*(1 - np.exp(-k3*x))\n",
    "\n",
    "def func4(x, a1, k1, a2, k2, a3, k3, a4, k4):\n",
    "    return a1*(1 - np.exp(-k1*x)) + a2*(1 - np.exp(-k2*x)) + a3*(1 - np.exp(-k3*x)) + a4*(1 - np.exp(-k4*x))\n",
    "\n",
    "def func_test(x):\n",
    "    a1 = 0.189\n",
    "    k1 = 0.104\n",
    "    a2 = 0.470\n",
    "    k2 = 6.723\n",
    "    return a1*(1 - np.exp(-k1*x)) + a2*(1 - np.exp(-k2*x))\n",
    "\n",
    "\n",
    "\n",
    "def print_fitting_coef(f, x, y):\n",
    "    popt, pcov = curve_fit(f, x, y)\n",
    "\n",
    "    residuals = y - f(x, *popt)\n",
    "    ss_res = np.sum(residuals**2)\n",
    "    ss_tot = np.sum((y-np.mean(y))**2)\n",
    "    r_squared = 1 - (ss_res / ss_tot)\n",
    "    \n",
    "    if len(popt)==2:\n",
    "        print(\"Fitting with y = A1*(1-exp(-k1*x))\")\n",
    "        print(\"A1 = %.8s +/- %.8s;\" % (popt[0], pcov[0,0]**0.5))\n",
    "        print(\"k1 = %.8s +/- %.8s;\" % (popt[1], pcov[1,1]**0.5))\n",
    "    elif len(popt)==4:\n",
    "        print(\"Fitting with y = A1*(1-exp(-k1*x)) + A2*(1-exp(-k2*x))\")\n",
    "        print(\"A1 = %.8s +/- %.8s;\" % (popt[0], pcov[0,0]**0.5))\n",
    "        print(\"k1 = %.8s +/- %.8s;\" % (popt[1], pcov[1,1]**0.5))\n",
    "        print(\"A2 = %.8s +/- %.8s;\" % (popt[2], pcov[2,2]**0.5))\n",
    "        print(\"k2 = %.8s +/- %.8s;\" % (popt[3], pcov[3,3]**0.5))\n",
    "    elif len(popt)==6:\n",
    "        print(\"Fitting with y = A1*(1-exp(-k1*x)) + A2*(1-exp(-k2*x)) + A3*(1-exp(-k3*x))\")\n",
    "        print(\"A1 = %.8s +/- %.8s;\" % (popt[0], pcov[0,0]**0.5))\n",
    "        print(\"k1 = %.8s +/- %.8s;\" % (popt[1], pcov[1,1]**0.5))\n",
    "        print(\"A2 = %.8s +/- %.8s;\" % (popt[2], pcov[2,2]**0.5))\n",
    "        print(\"k2 = %.8s +/- %.8s;\" % (popt[3], pcov[3,3]**0.5))\n",
    "        print(\"A3 = %.8s +/- %.8s;\" % (popt[4], pcov[4,4]**0.5))\n",
    "        print(\"k3 = %.8s +/- %.8s;\" % (popt[5], pcov[5,5]**0.5))\n",
    "    elif len(popt)==8:\n",
    "        print(\"Fitting with y = A1*(1-exp(-k1*x)) + A2*(1-exp(-k2*x)) + A3*(1-exp(-k3*x))\")\n",
    "        print(\"A1 = %.8s +/- %.8s;\" % (popt[0], pcov[0,0]**0.5))\n",
    "        print(\"k1 = %.8s +/- %.8s;\" % (popt[1], pcov[1,1]**0.5))\n",
    "        print(\"A2 = %.8s +/- %.8s;\" % (popt[2], pcov[2,2]**0.5))\n",
    "        print(\"k2 = %.8s +/- %.8s;\" % (popt[3], pcov[3,3]**0.5))\n",
    "        print(\"A3 = %.8s +/- %.8s;\" % (popt[4], pcov[4,4]**0.5))\n",
    "        print(\"k3 = %.8s +/- %.8s;\" % (popt[5], pcov[5,5]**0.5))\n",
    "        print(\"A4 = %.8s +/- %.8s;\" % (popt[6], pcov[6,6]**0.5))\n",
    "        print(\"k4 = %.8s +/- %.8s;\" % (popt[7], pcov[7,7]**0.5))\n",
    "    \n",
    "    print(\"R^2 = %.6s\" %(r_squared))"
   ]
  },
  {
   "cell_type": "code",
   "execution_count": 154,
   "metadata": {},
   "outputs": [
    {
     "name": "stdout",
     "output_type": "stream",
     "text": [
      "Fitting with y = A1*(1-exp(-k1*x))\n",
      "A1 = 0.573409 +/- 0.026212;\n",
      "k1 = 4.270396 +/- 1.037146;\n",
      "R^2 = 0.8400\n",
      "Fitting with y = A1*(1-exp(-k1*x)) + A2*(1-exp(-k2*x))\n",
      "A1 = -0.33513 +/- 2712535.;\n",
      "k1 = 4.270453 +/- 97304.20;\n",
      "A2 = 0.908539 +/- 2712535.;\n",
      "k2 = 4.270585 +/- 35700.74;\n",
      "R^2 = 0.8400\n"
     ]
    },
    {
     "name": "stderr",
     "output_type": "stream",
     "text": [
      "/Users/rliu/miniconda/envs/lsst/lib/python2.7/site-packages/ipykernel_launcher.py:8: RuntimeWarning: overflow encountered in exp\n",
      "  \n"
     ]
    }
   ],
   "source": [
    "for f in (func1, func2):\n",
    "    print_fitting_coef(f, Dtime, Dmean)"
   ]
  },
  {
   "cell_type": "code",
   "execution_count": 209,
   "metadata": {},
   "outputs": [
    {
     "name": "stderr",
     "output_type": "stream",
     "text": [
      "/Users/rliu/miniconda/envs/lsst/lib/python2.7/site-packages/ipykernel_launcher.py:8: RuntimeWarning: overflow encountered in exp\n",
      "  \n"
     ]
    },
    {
     "data": {
      "text/plain": [
       "array([0.02778045, 0.17063027, 0.00688479])"
      ]
     },
     "execution_count": 209,
     "metadata": {},
     "output_type": "execute_result"
    }
   ],
   "source": [
    "popt1, pcov1 = curve_fit(func1, Dtime, Dmean)\n",
    "popt2, pcov2 = curve_fit(func2, Dtime, Dmean)\n",
    "popt3, pcov3 = curve_fit(func1x, Dtime, Dmean)\n",
    "# popt3, pcov3 = curve_fit(func3, Dtime, Dmean)\n",
    "popt3"
   ]
  },
  {
   "cell_type": "code",
   "execution_count": 30,
   "metadata": {},
   "outputs": [
    {
     "name": "stderr",
     "output_type": "stream",
     "text": [
      "/Users/rliu/miniconda/envs/lsst/lib/python2.7/site-packages/ipykernel_launcher.py:3: DeprecationWarning: object of type <type 'float'> cannot be safely interpreted as an integer.\n",
      "  This is separate from the ipykernel package so we can avoid doing imports until\n"
     ]
    }
   ],
   "source": [
    "XLB = 0.0     # Lower boundary of x axis\n",
    "XUB = 60.0  # Upper boundary of x axis\n",
    "x_plot = np.linspace(XLB, XUB, num=5*(XUB-XLB), endpoint=True)"
   ]
  },
  {
   "cell_type": "code",
   "execution_count": 210,
   "metadata": {},
   "outputs": [
    {
     "data": {
      "text/plain": [
       "<matplotlib.legend.Legend at 0x114c7dd50>"
      ]
     },
     "execution_count": 210,
     "metadata": {},
     "output_type": "execute_result"
    },
    {
     "data": {
      "image/png": "[encoded data removed]",
      "text/plain": [
       "<matplotlib.figure.Figure at 0x11482ea50>"
      ]
     },
     "metadata": {},
     "output_type": "display_data"
    }
   ],
   "source": [
    "plt.figure(figsize=(12, 8))\n",
    "\n",
    "# Plot original data\n",
    "plt.errorbar(Dtime, Dmean, yerr=Dstd, fmt='o', color='coral', label='Original Data')\n",
    "\n",
    "# Plot fitting curve\n",
    "plt.plot(x_plot, func1(x_plot, *popt1), ls='--', label='Fitted Curve 1')\n",
    "plt.plot(x_plot, func2(x_plot, *popt2), ls='-.', label='Fitted Curve 2')\n",
    "plt.plot(x_plot, func1x(x_plot, *popt3), ls='dotted', label='Fitted Curve 3')\n",
    "# plt.text(0.4*XUB, 0.25, \"$k = %.4s min^{-1}$   $R^2 = %.6s$\" %(60.0*popt[1], r_squared)) #解释文字的位置和内容\n",
    "\n",
    "plt.xlabel('Reaction Time (s)')\n",
    "plt.ylabel('Product Formation(nM)')\n",
    "plt.legend(loc='best', fontsize=14)"
   ]
  },
  {
   "cell_type": "code",
   "execution_count": 211,
   "metadata": {},
   "outputs": [
    {
     "data": {
      "text/plain": [
       "1.0101593623771064"
      ]
     },
     "execution_count": 211,
     "metadata": {},
     "output_type": "execute_result"
    }
   ],
   "source": [
    "# Calculate Chi2\n",
    "DoF = len(Dmean)-3\n",
    "sigma = Dstd\n",
    "chi_squared = np.sum(((Dmean - func1x(Dtime, *popt3))/sigma)**2)/DoF\n",
    "chi_squared"
   ]
  },
  {
   "cell_type": "code",
   "execution_count": 212,
   "metadata": {},
   "outputs": [
    {
     "data": {
      "text/plain": [
       "36.45762181482757"
      ]
     },
     "execution_count": 212,
     "metadata": {},
     "output_type": "execute_result"
    }
   ],
   "source": [
    "DoF = len(Dmean)-2\n",
    "sigma = Dstd\n",
    "chi_squared = np.sum(((Dmean - func1(Dtime, *popt1))/sigma)**2)/DoF\n",
    "chi_squared"
   ]
  },
  {
   "cell_type": "code",
   "execution_count": 213,
   "metadata": {},
   "outputs": [
    {
     "data": {
      "text/plain": [
       "0.24844867950326827"
      ]
     },
     "execution_count": 213,
     "metadata": {},
     "output_type": "execute_result"
    }
   ],
   "source": [
    "DoF = len(Dmean)-4\n",
    "sigma = Dstd\n",
    "chi_squared = np.sum(((Dmean - func2(Dtime, *popt2))/sigma)**2)/DoF\n",
    "chi_squared"
   ]
  },
  {
   "cell_type": "code",
   "execution_count": null,
   "metadata": {},
   "outputs": [],
   "source": []
  },
  {
   "cell_type": "code",
   "execution_count": null,
   "metadata": {},
   "outputs": [],
   "source": []
  },
  {
   "cell_type": "code",
   "execution_count": null,
   "metadata": {},
   "outputs": [],
   "source": []
  },
  {
   "cell_type": "code",
   "execution_count": null,
   "metadata": {},
   "outputs": [],
   "source": []
  },
  {
   "cell_type": "code",
   "execution_count": 199,
   "metadata": {},
   "outputs": [
    {
     "data": {
      "text/plain": [
       "6141.375169289883"
      ]
     },
     "execution_count": 199,
     "metadata": {},
     "output_type": "execute_result"
    }
   ],
   "source": [
    "DoF = len(Dmean)-3\n",
    "sigma = Dstd/np.sqrt(2)\n",
    "chi_squared = np.sum(((Dmean - func_test(Dtime))/sigma)**2)/DoF\n",
    "chi_squared"
   ]
  },
  {
   "cell_type": "code",
   "execution_count": 196,
   "metadata": {},
   "outputs": [
    {
     "data": {
      "text/plain": [
       "array([-3.07674467, -5.78260846, -4.17811373, -7.06822184, -3.67843236,\n",
       "       -0.86349533,  0.3086414 ,  0.30267489, -0.35744361, -0.9637596 ,\n",
       "        0.65377063])"
      ]
     },
     "execution_count": 196,
     "metadata": {},
     "output_type": "execute_result"
    }
   ],
   "source": [
    "(Dmean - func1(Dtime, *popt1))/sigma"
   ]
  },
  {
   "cell_type": "code",
   "execution_count": null,
   "metadata": {},
   "outputs": [],
   "source": []
  }
 ],
 "metadata": {
  "kernelspec": {
   "display_name": "Python 2",
   "language": "python",
   "name": "python2"
  },
  "language_info": {
   "codemirror_mode": {
    "name": "ipython",
    "version": 2
   },
   "file_extension": ".py",
   "mimetype": "text/x-python",
   "name": "python",
   "nbconvert_exporter": "python",
   "pygments_lexer": "ipython2",
   "version": "2.7.13"
  }
 },
 "nbformat": 4,
 "nbformat_minor": 2
}
